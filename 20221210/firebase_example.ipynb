{
 "cells": [
  {
   "cell_type": "code",
   "execution_count": 1,
   "id": "9b55c44b",
   "metadata": {},
   "outputs": [
    {
     "data": {
      "text/plain": [
       "<google.cloud.firestore_v1.client.Client at 0x1692eb0ef50>"
      ]
     },
     "execution_count": 1,
     "metadata": {},
     "output_type": "execute_result"
    }
   ],
   "source": [
    "import firebase_admin\n",
    "from firebase_admin import credentials\n",
    "from firebase_admin import firestore\n",
    "\n",
    "# Use a service account.\n",
    "#cred = credentials.Certificate('./aiot-nuguna-03687aeaa9e6.json')\n",
    "cred = credentials.Certificate('./steveproject-1dad4-90d56d068c60.json')\n",
    "\n",
    "app = firebase_admin.initialize_app(cred)\n",
    "\n",
    "db = firestore.client()\n",
    "\n",
    "db"
   ]
  },
  {
   "cell_type": "code",
   "execution_count": 1,
   "id": "27715b6b",
   "metadata": {},
   "outputs": [
    {
     "data": {
      "text/plain": [
       "{'1c': {'c_id': '1c',\n",
       "  'name': '최원칠',\n",
       "  'account_num': 2,\n",
       "  'total_amount': 500,\n",
       "  'rat': 'silver',\n",
       "  'account': {'11a': {'a_id': '11a',\n",
       "    'password': '11p',\n",
       "    'c_id': '1c',\n",
       "    'amount': 100},\n",
       "   '12a': {'a_id': '12a', 'password': '12p', 'c_id': '1c', 'amount': 400}}},\n",
       " '2c': {'c_id': '2c',\n",
       "  'name': '이서혁',\n",
       "  'account_num': 1,\n",
       "  'total_amount': 2000,\n",
       "  'rat': 'gold',\n",
       "  'account': {'21a': {'a_id': '21a',\n",
       "    'password': '21p',\n",
       "    'c_id': '2c',\n",
       "    'amount': 2000}}},\n",
       " '3c': {'c_id': '3c',\n",
       "  'name': 'aiot',\n",
       "  'account_num': 3,\n",
       "  'total_amount': 50000,\n",
       "  'rat': 'vip',\n",
       "  'account': {'31a': {'a_id': '31a',\n",
       "    'password': '31p',\n",
       "    'c_id': '3c',\n",
       "    'amount': 10000},\n",
       "   '32a': {'a_id': '32a', 'password': '32p', 'c_id': '3c', 'amount': 20000},\n",
       "   '33a': {'a_id': '33a', 'password': '33p', 'c_id': '3c', 'amount': 20000}}},\n",
       " '4c': {'c_id': '4c',\n",
       "  'name': '새싹',\n",
       "  'account_num': 4,\n",
       "  'total_amount': 200000,\n",
       "  'rat': 'vvip',\n",
       "  'account': {'41a': {'a_id': '41a',\n",
       "    'password': '41p',\n",
       "    'c_id': '4c',\n",
       "    'amount': 100000},\n",
       "   '42a': {'a_id': '42a', 'password': '42p', 'c_id': '4c', 'amount': 50000},\n",
       "   '43a': {'a_id': '43a', 'password': '43p', 'c_id': '4c', 'amount': 20000},\n",
       "   '44a': {'a_id': '44a', 'password': '44p', 'c_id': '4c', 'amount': 30000}}}}"
      ]
     },
     "execution_count": 1,
     "metadata": {},
     "output_type": "execute_result"
    }
   ],
   "source": [
    "# py파일 또는 ipynb 파일 새로 생성하여 진행\n",
    "# 파이어스토어 db 인스턴스 생성\n",
    "# bank4.json 파일내의 데이터를 파이어스토어 customer 컬렉션에 고객 아이디를 아이디로 가지는 문서들로 추가\n",
    "\n",
    "import json\n",
    "\n",
    "with open('bank4.json','r') as f:\n",
    "    data = json.load(f)\n",
    "    \n",
    "list = result[\"response\"][\"body\"][\"items\"][\"item\"]\n",
    "tm_wthr = {}\n",
    "\n",
    "for item in list:\n",
    "    tm_wthr[item[\"t5\"]] = {\"제목\": item['t1'],\n",
    "                          \"해당구역\" : item['t2'],\n",
    "                            \"발효시각\": item['t3'],\n",
    "                           \"내용\": item['t4'],\n",
    "                          \"특보발효현황내용\" : item['t6'],\n",
    "                           \"예비특보\": item['t7']\n",
    "                          }\n",
    "tm_wthr\n"
   ]
  },
  {
   "cell_type": "code",
   "execution_count": null,
   "id": "b8ca69b5",
   "metadata": {},
   "outputs": [],
   "source": [
    "# {아이디: 5c, 이름: 본인이름, 계좌개수:0, 총금액:0, 등급:normal, 계좌:비어있는 딕셔너리} 고객 customer 컬렉션에 추가\n",
    "# 5c 고객에 임의의 계좌 추가 (고객의 계좌, 총금액, 계좌개수, 등급, 수정시간 업데이트되어야함)\n",
    "# 계좌개수, 총금액은 firestore.Increment() 사용\n"
   ]
  }
 ],
 "metadata": {
  "kernelspec": {
   "display_name": "Python 3 (ipykernel)",
   "language": "python",
   "name": "python3"
  },
  "language_info": {
   "codemirror_mode": {
    "name": "ipython",
    "version": 3
   },
   "file_extension": ".py",
   "mimetype": "text/x-python",
   "name": "python",
   "nbconvert_exporter": "python",
   "pygments_lexer": "ipython3",
   "version": "3.10.8"
  }
 },
 "nbformat": 4,
 "nbformat_minor": 5
}
