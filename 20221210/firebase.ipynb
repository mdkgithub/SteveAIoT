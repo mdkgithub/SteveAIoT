{
 "cells": [
  {
   "cell_type": "code",
   "execution_count": 8,
   "id": "bed2b060",
   "metadata": {},
   "outputs": [],
   "source": [
    "import firebase_admin\n",
    "from firebase_admin import credentials\n",
    "from firebase_admin import firestore\n",
    "\n",
    "# Use a service account.\n",
    "#cred = credentials.Certificate('./aiot-nuguna-03687aeaa9e6.json')\n",
    "cred = credentials.Certificate('./steveproject-1dad4-90d56d068c60.json')\n",
    "\n",
    "app = firebase_admin.initialize_app(cred)\n",
    "\n",
    "db = firestore.client()\n"
   ]
  },
  {
   "cell_type": "code",
   "execution_count": 3,
   "id": "0a018209",
   "metadata": {},
   "outputs": [],
   "source": [
    "# 데이터 추가\n",
    "doc_ref = db.collection('customer').document('c1')\n",
    "\n",
    "doc_ref.set({\n",
    "    'c_id': 'c1',\n",
    "    'name': '최원칠',\n",
    "    'total_amount':500,\n",
    "    'rat': 'silver',\n",
    "    'test':'test'\n",
    "})"
   ]
  },
  {
   "cell_type": "code",
   "execution_count": 4,
   "id": "650ff879",
   "metadata": {},
   "outputs": [
    {
     "data": {
      "text/plain": [
       "<google.cloud.firestore_v1.document.DocumentReference at 0x29d37dc7940>"
      ]
     },
     "execution_count": 4,
     "metadata": {},
     "output_type": "execute_result"
    }
   ],
   "source": [
    "doc_ref"
   ]
  },
  {
   "cell_type": "code",
   "execution_count": 5,
   "id": "caff81b9",
   "metadata": {},
   "outputs": [
    {
     "name": "stdout",
     "output_type": "stream",
     "text": [
      "Document data: {'test': 'test', 'c_id': 'c1', 'rat': 'silver', 'total_amount': 500, 'name': '최원칠'}\n"
     ]
    }
   ],
   "source": [
    "# 데이터 id로 읽기\n",
    "doc_ref = db.collection('customer').document('c1')\n",
    "\n",
    "doc = doc_ref.get()\n",
    "if doc.exists:\n",
    "    print(f'Document data: {doc.to_dict()}')\n",
    "else:\n",
    "    print(u'No such document!')\n"
   ]
  },
  {
   "cell_type": "code",
   "execution_count": 6,
   "id": "293678e5",
   "metadata": {},
   "outputs": [
    {
     "data": {
      "text/plain": [
       "<google.cloud.firestore_v1.base_document.DocumentSnapshot at 0x29d3636d6f0>"
      ]
     },
     "execution_count": 6,
     "metadata": {},
     "output_type": "execute_result"
    }
   ],
   "source": [
    "doc"
   ]
  },
  {
   "cell_type": "code",
   "execution_count": 7,
   "id": "be93c931",
   "metadata": {
    "scrolled": true
   },
   "outputs": [
    {
     "name": "stdout",
     "output_type": "stream",
     "text": [
      "1c => {'name': 'sjseo'}\n",
      "c1 => {'test': 'test', 'c_id': 'c1', 'rat': 'silver', 'total_amount': 500, 'name': '최원칠'}\n"
     ]
    }
   ],
   "source": [
    "# 데이터 전체 읽기\n",
    "users_ref = db.collection('customer')\n",
    "docs = users_ref.stream()\n",
    "\n",
    "for doc in docs:\n",
    "    print(f'{doc.id} => {doc.to_dict()}')"
   ]
  },
  {
   "cell_type": "code",
   "execution_count": 8,
   "id": "51a93b62",
   "metadata": {
    "scrolled": true
   },
   "outputs": [
    {
     "name": "stdout",
     "output_type": "stream",
     "text": [
      "c1 => {'test': 'test', 'c_id': 'c1', 'rat': 'silver', 'total_amount': 500, 'name': '최원칠'}\n"
     ]
    }
   ],
   "source": [
    "# 데이터 쿼리\n",
    "cities_ref = db.collection('customer')\n",
    "q = cities_ref.where('total_amount', '<=', 1000).stream()\n",
    "for doc in q:\n",
    "    print(f'{doc.id} => {doc.to_dict()}')\n",
    "\n",
    "#.whrere"
   ]
  },
  {
   "cell_type": "code",
   "execution_count": 9,
   "id": "eea623ac",
   "metadata": {},
   "outputs": [
    {
     "data": {
      "text/plain": [
       "update_time {\n",
       "  seconds: 1670664513\n",
       "  nanos: 929330000\n",
       "}"
      ]
     },
     "execution_count": 9,
     "metadata": {},
     "output_type": "execute_result"
    }
   ],
   "source": [
    "# 데이터 업데이트\n",
    "doc_ref = db.collection('customer').document('c1')\n",
    "\n",
    "doc_ref.update({'account_num': 1,\n",
    "                'accounts':{'11a':{'a_id':'11a', 'c_id':'c1', 'amount':100}}\n",
    "               })\n"
   ]
  },
  {
   "cell_type": "code",
   "execution_count": 10,
   "id": "af1f1c62",
   "metadata": {},
   "outputs": [
    {
     "name": "stdout",
     "output_type": "stream",
     "text": [
      "Document data: {'accounts': {'11a': {'c_id': 'c1', 'amount': 100, 'a_id': '11a'}}, 'c_id': 'c1', 'account_num': 1, 'test': 'test', 'rat': 'silver', 'total_amount': 500, 'name': '최원칠'}\n"
     ]
    }
   ],
   "source": [
    "doc_ref = db.collection('customer').document('c1')\n",
    "\n",
    "doc = doc_ref.get()\n",
    "if doc.exists:\n",
    "    print(f'Document data: {doc.to_dict()}')\n",
    "else:\n",
    "    print(u'No such document!')"
   ]
  },
  {
   "cell_type": "code",
   "execution_count": 12,
   "id": "be6b74cd",
   "metadata": {},
   "outputs": [
    {
     "data": {
      "text/plain": [
       "update_time {\n",
       "  seconds: 1670664684\n",
       "  nanos: 352261000\n",
       "}\n",
       "transform_results {\n",
       "  integer_value: 2\n",
       "}\n",
       "transform_results {\n",
       "  timestamp_value {\n",
       "    seconds: 1670664684\n",
       "    nanos: 323000000\n",
       "  }\n",
       "}\n",
       "transform_results {\n",
       "  integer_value: 900\n",
       "}"
      ]
     },
     "execution_count": 12,
     "metadata": {},
     "output_type": "execute_result"
    }
   ],
   "source": [
    "# 데이터 업데이트\n",
    "doc_ref = db.collection('customer').document('c1')\n",
    "\n",
    "# 특수 필드 사용\n",
    "# 특정 맵의 필드를 추가하기위해 < 맵.필드 : 값 > 사용\n",
    "doc_ref.update({'account_num': firestore.Increment(1),#  += 1  \n",
    "                'total_amount' : firestore.Increment(400),\n",
    "                'edit_time': firestore.SERVER_TIMESTAMP,\n",
    "                'accounts.12a':{'a_id':'12a', 'c_id':'c1', 'amount':400}\n",
    "               })"
   ]
  },
  {
   "cell_type": "code",
   "execution_count": 13,
   "id": "0f5ac983",
   "metadata": {},
   "outputs": [
    {
     "name": "stdout",
     "output_type": "stream",
     "text": [
      "Document data: {'accounts': {'11a': {'c_id': 'c1', 'amount': 100, 'a_id': '11a'}, '12a': {'c_id': 'c1', 'amount': 400, 'a_id': '12a'}}, 'account_num': 2, 'c_id': 'c1', 'edit_time': DatetimeWithNanoseconds(2022, 12, 10, 9, 31, 24, 323000, tzinfo=datetime.timezone.utc), 'test': 'test', 'rat': 'silver', 'total_amount': 900, 'name': '최원칠'}\n"
     ]
    }
   ],
   "source": [
    "doc_ref = db.collection('customer').document('c1')\n",
    "\n",
    "doc = doc_ref.get()\n",
    "if doc.exists:\n",
    "    print(f'Document data: {doc.to_dict()}')\n",
    "else:\n",
    "    print(u'No such document!')"
   ]
  },
  {
   "cell_type": "code",
   "execution_count": null,
   "id": "ace74ceb",
   "metadata": {},
   "outputs": [],
   "source": []
  },
  {
   "cell_type": "code",
   "execution_count": 2,
   "id": "b3fe8b33",
   "metadata": {},
   "outputs": [
    {
     "data": {
      "text/plain": [
       "{'1c': {'c_id': '1c',\n",
       "  'name': '최원칠',\n",
       "  'account_num': 2,\n",
       "  'total_amount': 500,\n",
       "  'rat': 'silver',\n",
       "  'account': {'11a': {'a_id': '11a',\n",
       "    'password': '11p',\n",
       "    'c_id': '1c',\n",
       "    'amount': 100},\n",
       "   '12a': {'a_id': '12a', 'password': '12p', 'c_id': '1c', 'amount': 400}}},\n",
       " '2c': {'c_id': '2c',\n",
       "  'name': '이서혁',\n",
       "  'account_num': 1,\n",
       "  'total_amount': 2000,\n",
       "  'rat': 'gold',\n",
       "  'account': {'21a': {'a_id': '21a',\n",
       "    'password': '21p',\n",
       "    'c_id': '2c',\n",
       "    'amount': 2000}}},\n",
       " '3c': {'c_id': '3c',\n",
       "  'name': 'aiot',\n",
       "  'account_num': 3,\n",
       "  'total_amount': 50000,\n",
       "  'rat': 'vip',\n",
       "  'account': {'31a': {'a_id': '31a',\n",
       "    'password': '31p',\n",
       "    'c_id': '3c',\n",
       "    'amount': 10000},\n",
       "   '32a': {'a_id': '32a', 'password': '32p', 'c_id': '3c', 'amount': 20000},\n",
       "   '33a': {'a_id': '33a', 'password': '33p', 'c_id': '3c', 'amount': 20000}}},\n",
       " '4c': {'c_id': '4c',\n",
       "  'name': '새싹',\n",
       "  'account_num': 4,\n",
       "  'total_amount': 200000,\n",
       "  'rat': 'vvip',\n",
       "  'account': {'41a': {'a_id': '41a',\n",
       "    'password': '41p',\n",
       "    'c_id': '4c',\n",
       "    'amount': 100000},\n",
       "   '42a': {'a_id': '42a', 'password': '42p', 'c_id': '4c', 'amount': 50000},\n",
       "   '43a': {'a_id': '43a', 'password': '43p', 'c_id': '4c', 'amount': 20000},\n",
       "   '44a': {'a_id': '44a', 'password': '44p', 'c_id': '4c', 'amount': 30000}}}}"
      ]
     },
     "execution_count": 2,
     "metadata": {},
     "output_type": "execute_result"
    }
   ],
   "source": [
    "# py파일 또는 ipynb 파일 새로 생성하여 진행\n",
    "# 파이어스토어 db 인스턴스 생성\n",
    "# bank4.json 파일내의 데이터를 파이어스토어 customer 컬렉션에 고객 아이디를 아이디로 가지는 문서들로 추가\n",
    "# {아이디: 5c, 이름: 본인이름, 계좌개수:0, 총금액:0, 등급:normal, 계좌:비어있는 딕셔너리} 고객 customer 컬렉션에 추가\n",
    "# 5c 고객에 임의의 계좌 추가 (고객의 계좌, 총금액, 계좌개수, 등급, 수정시간 업데이트되어야함)\n",
    "# 계좌개수, 총금액은 firestore.Increment() 사용\n",
    "\n",
    "import json\n",
    "\n",
    "with open('bank4.json','r') as f:\n",
    "    data = json.load(f)\n",
    "data"
   ]
  },
  {
   "cell_type": "code",
   "execution_count": 22,
   "id": "22f8114a",
   "metadata": {},
   "outputs": [
    {
     "data": {
      "text/plain": [
       "update_time {\n",
       "  seconds: 1670667836\n",
       "  nanos: 779067000\n",
       "}\n",
       "transform_results {\n",
       "  integer_value: 1\n",
       "}\n",
       "transform_results {\n",
       "  integer_value: 900\n",
       "}\n",
       "transform_results {\n",
       "  timestamp_value {\n",
       "    seconds: 1670667836\n",
       "    nanos: 771000000\n",
       "  }\n",
       "}\n",
       "transform_results {\n",
       "  integer_value: 400\n",
       "}"
      ]
     },
     "execution_count": 22,
     "metadata": {},
     "output_type": "execute_result"
    }
   ],
   "source": [
    "for i in data:\n",
    "    doc_ref = db.collection('customer').document(i)\n",
    "    doc_ref.set(data[i])\n",
    "    #{아이디: 5c, 이름: 본인이름, 계좌개수:0, 총금액:0, 등급:normal, 계좌:비어있는 딕셔너리} 고객 customer 컬렉션에 추가\n",
    "\n",
    "    # 5c 고객에 임의의 계좌 추가 (고객의 계좌, 총금액, 계좌개수, 등급, 수정시간 업데이트되어야함)\n",
    "    # 계좌개수, 총금액은 firestore.Increment() 사용\n",
    "\n",
    "doc_ref = db.collection('customer').document('5c')   \n",
    "doc_ref.set({'c_id': '5c','name': 'sjseo',\n",
    "                'account_num': 0,'total_amount': 0,'rat': 'normal',\n",
    "                'accounts' : {'12a': {'a_id':'12a', 'c_id':'c1', 'amount':500}}\n",
    "                })\n",
    "doc_ref = db.collection('customer').document('5c')   \n",
    "doc_ref.update({'account_num': firestore.Increment(1),#  += 1  \n",
    "                'total_amount' : firestore.Increment(400),\n",
    "                'edit_time': firestore.SERVER_TIMESTAMP,\n",
    "                'accounts.12a.amount':firestore.Increment(400)\n",
    "               })"
   ]
  },
  {
   "cell_type": "code",
   "execution_count": 19,
   "id": "ae6d1242",
   "metadata": {},
   "outputs": [
    {
     "data": {
      "text/plain": [
       "1500"
      ]
     },
     "execution_count": 19,
     "metadata": {},
     "output_type": "execute_result"
    }
   ],
   "source": [
    "# 트랜젝션\n",
    "\n",
    "transaction = db.transaction()\n",
    "doc_ref = db.collection('customer').document('c1')\n",
    "\n",
    "@firestore.transactional\n",
    "def update_in_transaction(transaction, doc_ref):\n",
    "    snapshot = doc_ref.get(transaction=transaction)\n",
    "    total_amount = snapshot.get('total_amount')\n",
    "    ntotal_amount = total_amount + 1000\n",
    "    \n",
    "    transaction.update(doc_ref, {\n",
    "            'total_amount': ntotal_amount\n",
    "        })\n",
    "    \n",
    "    return ntotal_amount\n",
    "\n",
    "result = update_in_transaction(transaction, doc_ref)\n",
    "result"
   ]
  },
  {
   "cell_type": "code",
   "execution_count": null,
   "id": "bd7cb006",
   "metadata": {},
   "outputs": [],
   "source": []
  }
 ],
 "metadata": {
  "kernelspec": {
   "display_name": "Python 3 (ipykernel)",
   "language": "python",
   "name": "python3"
  },
  "language_info": {
   "codemirror_mode": {
    "name": "ipython",
    "version": 3
   },
   "file_extension": ".py",
   "mimetype": "text/x-python",
   "name": "python",
   "nbconvert_exporter": "python",
   "pygments_lexer": "ipython3",
   "version": "3.10.8"
  }
 },
 "nbformat": 4,
 "nbformat_minor": 5
}
